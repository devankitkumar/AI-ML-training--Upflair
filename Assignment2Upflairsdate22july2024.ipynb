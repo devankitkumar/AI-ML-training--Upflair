{
  "nbformat": 4,
  "nbformat_minor": 0,
  "metadata": {
    "colab": {
      "provenance": [],
      "authorship_tag": "ABX9TyMzxwR8i/FvdmwQ+l1bQi4g",
      "include_colab_link": true
    },
    "kernelspec": {
      "name": "python3",
      "display_name": "Python 3"
    },
    "language_info": {
      "name": "python"
    }
  },
  "cells": [
    {
      "cell_type": "markdown",
      "metadata": {
        "id": "view-in-github",
        "colab_type": "text"
      },
      "source": [
        "<a href=\"https://colab.research.google.com/github/devankitkumar/AI-ML-training--Upflair/blob/main/Assignment2Upflairsdate22july2024.ipynb\" target=\"_parent\"><img src=\"https://colab.research.google.com/assets/colab-badge.svg\" alt=\"Open In Colab\"/></a>"
      ]
    },
    {
      "cell_type": "markdown",
      "source": [
        "                           **Assignment of Upflairs for 22 july**\n",
        "                                Exception Handling\n",
        "                               \n",
        "                                 TYPE OF ERRORS"
      ],
      "metadata": {
        "id": "uK8VlBGdMDKH"
      }
    },
    {
      "cell_type": "code",
      "source": [
        "1. Syntax Error\n",
        "𝐂𝐥𝐚𝐬𝐬 𝐨𝐟 𝐄𝐫𝐫𝐨𝐫: '𝐒𝐲𝐧𝐭𝐚𝐱𝐄𝐫𝐫𝐨𝐫'\n",
        "\n",
        "𝗗𝗲𝘀𝗰𝗿𝗶𝗽𝘁𝗶𝗼𝗻: When a sentence deviates from the Python language's syntax rules, the Python parser encounters a syntax error.\n",
        "\n",
        "Handling: Because syntax problems happen before the program begins to run, they cannot be detected by exception handling.\n",
        "Correcting the syntax of the code is the only method to address syntactic errors.\n",
        "\n",
        "# Example of SyntaxError\n",
        "print(\"Hello, world\"\n"
      ],
      "metadata": {
        "id": "oTxAaczYM9Mx"
      },
      "execution_count": null,
      "outputs": []
    },
    {
      "cell_type": "code",
      "source": [
        "2. Type Error\n",
        "𝐂𝐥𝐚𝐬𝐬 𝐨𝐟 𝐄𝐫𝐫𝐨𝐫: '𝐓𝐲𝐩𝐞𝐄𝐫𝐫𝐨𝐫'\n",
        "\n",
        "𝐃𝐞𝐬𝐜𝐫𝐢𝐩𝐭𝐢𝐨𝐧 : When a function or operation is applied to an object that is not the right type, type errors happen.\n",
        "\n",
        "Wxample: # Example of TypeError\n",
        "a = 'hello'\n",
        "b = 5\n",
        "result = a + b  # This will raise a TypeError"
      ],
      "metadata": {
        "id": "2bDrz00IP08d"
      },
      "execution_count": null,
      "outputs": []
    },
    {
      "cell_type": "markdown",
      "source": [
        "**Handling**"
      ],
      "metadata": {
        "id": "7gOQXbWmR0k7"
      }
    },
    {
      "cell_type": "code",
      "source": [
        "try:\n",
        "    a = 'hello'\n",
        "    b = 5\n",
        "    result = a + b\n",
        "except TypeError as e:\n",
        "    print(f\"Caught a TypeError: {e}\")\n",
        "\n",
        "# Fix\n",
        "result = a + str(b)\n",
        "print(result)  # Output: hello5\n"
      ],
      "metadata": {
        "colab": {
          "base_uri": "https://localhost:8080/"
        },
        "id": "FeRsNp1qRbcT",
        "outputId": "5b163a53-77d3-4736-e51a-d0f18d4daa46"
      },
      "execution_count": 1,
      "outputs": [
        {
          "output_type": "stream",
          "name": "stdout",
          "text": [
            "Caught a TypeError: can only concatenate str (not \"int\") to str\n",
            "hello5\n"
          ]
        }
      ]
    },
    {
      "cell_type": "markdown",
      "source": [
        "3. Name Error\n",
        "\n",
        "𝐂𝐥𝐚𝐬𝐬 𝐨𝐟 𝐄𝐫𝐫𝐨𝐫: '𝐍𝐚𝐦𝐞𝐄𝐫𝐫𝐨𝐫'\n",
        "\n",
        "𝗗𝗲𝘀𝗰𝗿𝗶𝗽𝘁𝗶𝗼𝗻 :Name errors occur when a local or global name is not found."
      ],
      "metadata": {
        "id": "5TccRypfR9Qq"
      }
    },
    {
      "cell_type": "code",
      "source": [
        "# Example of NameError\n",
        "print(variable_not_defined)\n"
      ],
      "metadata": {
        "colab": {
          "base_uri": "https://localhost:8080/",
          "height": 163
        },
        "id": "vvpX1NwfTaTD",
        "outputId": "77a1c849-934a-4f8f-ca39-d76e79862a73"
      },
      "execution_count": 2,
      "outputs": [
        {
          "output_type": "error",
          "ename": "NameError",
          "evalue": "name 'variable_not_defined' is not defined",
          "traceback": [
            "\u001b[0;31m---------------------------------------------------------------------------\u001b[0m",
            "\u001b[0;31mNameError\u001b[0m                                 Traceback (most recent call last)",
            "\u001b[0;32m<ipython-input-2-b5d11f3369fa>\u001b[0m in \u001b[0;36m<cell line: 2>\u001b[0;34m()\u001b[0m\n\u001b[1;32m      1\u001b[0m \u001b[0;31m# Example of NameError\u001b[0m\u001b[0;34m\u001b[0m\u001b[0;34m\u001b[0m\u001b[0m\n\u001b[0;32m----> 2\u001b[0;31m \u001b[0mprint\u001b[0m\u001b[0;34m(\u001b[0m\u001b[0mvariable_not_defined\u001b[0m\u001b[0;34m)\u001b[0m\u001b[0;34m\u001b[0m\u001b[0;34m\u001b[0m\u001b[0m\n\u001b[0m",
            "\u001b[0;31mNameError\u001b[0m: name 'variable_not_defined' is not defined"
          ]
        }
      ]
    },
    {
      "cell_type": "markdown",
      "source": [
        "Handling"
      ],
      "metadata": {
        "id": "cHn6t42YT5h4"
      }
    },
    {
      "cell_type": "code",
      "source": [
        "try:\n",
        "    print(variable_not_defined)\n",
        "except NameError as e:\n",
        "    print(f\"Caught a NameError: {e}\")\n",
        "\n",
        "# Fix\n",
        "variable_not_defined = 'Now it is defined'\n",
        "print(variable_not_defined)  # Output: Now it is defined\n"
      ],
      "metadata": {
        "colab": {
          "base_uri": "https://localhost:8080/"
        },
        "id": "1v3ADlAGTt07",
        "outputId": "53dbe780-95b2-4c36-ce07-4b795ae4508d"
      },
      "execution_count": 3,
      "outputs": [
        {
          "output_type": "stream",
          "name": "stdout",
          "text": [
            "Caught a NameError: name 'variable_not_defined' is not defined\n",
            "Now it is defined\n"
          ]
        }
      ]
    },
    {
      "cell_type": "markdown",
      "source": [
        "4. Index Error\n",
        "\n",
        "𝐂𝐥𝐚𝐬𝐬 𝐨𝐟 𝐄𝐫𝐫𝐨𝐫: '𝐈𝐧𝐝𝐞𝐱𝐄𝐫𝐫𝐨𝐫'\n",
        "\n",
        "𝗗𝗲𝘀𝗰𝗿𝗶𝗽𝘁𝗶𝗼𝗻 : When attempting to access an entry from a list with an out-of-bounds index, index errors happen."
      ],
      "metadata": {
        "id": "DHCWoM-0V2ZL"
      }
    },
    {
      "cell_type": "code",
      "source": [
        "# Example of IndexError\n",
        "my_list = [1, 2, 3]\n",
        "print(my_list[5])\n"
      ],
      "metadata": {
        "colab": {
          "base_uri": "https://localhost:8080/",
          "height": 181
        },
        "id": "6Mb5A0NrXATb",
        "outputId": "9caf9a9b-0797-4284-94d1-c72c3189763a"
      },
      "execution_count": 4,
      "outputs": [
        {
          "output_type": "error",
          "ename": "IndexError",
          "evalue": "list index out of range",
          "traceback": [
            "\u001b[0;31m---------------------------------------------------------------------------\u001b[0m",
            "\u001b[0;31mIndexError\u001b[0m                                Traceback (most recent call last)",
            "\u001b[0;32m<ipython-input-4-8d6e832968c2>\u001b[0m in \u001b[0;36m<cell line: 3>\u001b[0;34m()\u001b[0m\n\u001b[1;32m      1\u001b[0m \u001b[0;31m# Example of IndexError\u001b[0m\u001b[0;34m\u001b[0m\u001b[0;34m\u001b[0m\u001b[0m\n\u001b[1;32m      2\u001b[0m \u001b[0mmy_list\u001b[0m \u001b[0;34m=\u001b[0m \u001b[0;34m[\u001b[0m\u001b[0;36m1\u001b[0m\u001b[0;34m,\u001b[0m \u001b[0;36m2\u001b[0m\u001b[0;34m,\u001b[0m \u001b[0;36m3\u001b[0m\u001b[0;34m]\u001b[0m\u001b[0;34m\u001b[0m\u001b[0;34m\u001b[0m\u001b[0m\n\u001b[0;32m----> 3\u001b[0;31m \u001b[0mprint\u001b[0m\u001b[0;34m(\u001b[0m\u001b[0mmy_list\u001b[0m\u001b[0;34m[\u001b[0m\u001b[0;36m5\u001b[0m\u001b[0;34m]\u001b[0m\u001b[0;34m)\u001b[0m\u001b[0;34m\u001b[0m\u001b[0;34m\u001b[0m\u001b[0m\n\u001b[0m",
            "\u001b[0;31mIndexError\u001b[0m: list index out of range"
          ]
        }
      ]
    },
    {
      "cell_type": "markdown",
      "source": [
        "Handling"
      ],
      "metadata": {
        "id": "yalGROkmXbb3"
      }
    },
    {
      "cell_type": "code",
      "source": [
        "try:\n",
        "    my_list = [1, 2, 3]\n",
        "    print(my_list[5])\n",
        "except IndexError as e:\n",
        "    print(f\"Caught an IndexError: {e}\")\n",
        "\n",
        "# Fix\n",
        "index = 5\n",
        "if index < len(my_list):\n",
        "    print(my_list[index])\n",
        "else:\n",
        "    print(\"Index out of range\")\n"
      ],
      "metadata": {
        "colab": {
          "base_uri": "https://localhost:8080/"
        },
        "id": "24BB16reXOVS",
        "outputId": "381f2d8d-2a33-4f4c-e177-a7be30c93266"
      },
      "execution_count": 5,
      "outputs": [
        {
          "output_type": "stream",
          "name": "stdout",
          "text": [
            "Caught an IndexError: list index out of range\n",
            "Index out of range\n"
          ]
        }
      ]
    },
    {
      "cell_type": "markdown",
      "source": [
        "5. Key Error\n",
        "\n",
        "𝐂𝐥𝐚𝐬𝐬 𝐨𝐟 𝐄𝐫𝐫𝐨𝐫:  '𝐊𝐞𝐲𝐄𝐫𝐫𝐨𝐫'\n",
        "\n",
        "𝗗𝗲𝘀𝗰𝗿𝗶𝗽𝘁𝗶𝗼𝗻 : Key errors occur when trying to access a dictionary with a key that does not exist."
      ],
      "metadata": {
        "id": "dG0iFjHYXjaL"
      }
    },
    {
      "cell_type": "code",
      "source": [
        "# Example of KeyError\n",
        "my_dict = {'a': 1, 'b': 2}\n",
        "print(my_dict['c'])\n"
      ],
      "metadata": {
        "colab": {
          "base_uri": "https://localhost:8080/",
          "height": 181
        },
        "id": "aip3PEwaXede",
        "outputId": "4f615df6-89e0-4fcf-dc8e-ab9cbe5b62fa"
      },
      "execution_count": 6,
      "outputs": [
        {
          "output_type": "error",
          "ename": "KeyError",
          "evalue": "'c'",
          "traceback": [
            "\u001b[0;31m---------------------------------------------------------------------------\u001b[0m",
            "\u001b[0;31mKeyError\u001b[0m                                  Traceback (most recent call last)",
            "\u001b[0;32m<ipython-input-6-cc7d2195ec72>\u001b[0m in \u001b[0;36m<cell line: 3>\u001b[0;34m()\u001b[0m\n\u001b[1;32m      1\u001b[0m \u001b[0;31m# Example of KeyError\u001b[0m\u001b[0;34m\u001b[0m\u001b[0;34m\u001b[0m\u001b[0m\n\u001b[1;32m      2\u001b[0m \u001b[0mmy_dict\u001b[0m \u001b[0;34m=\u001b[0m \u001b[0;34m{\u001b[0m\u001b[0;34m'a'\u001b[0m\u001b[0;34m:\u001b[0m \u001b[0;36m1\u001b[0m\u001b[0;34m,\u001b[0m \u001b[0;34m'b'\u001b[0m\u001b[0;34m:\u001b[0m \u001b[0;36m2\u001b[0m\u001b[0;34m}\u001b[0m\u001b[0;34m\u001b[0m\u001b[0;34m\u001b[0m\u001b[0m\n\u001b[0;32m----> 3\u001b[0;31m \u001b[0mprint\u001b[0m\u001b[0;34m(\u001b[0m\u001b[0mmy_dict\u001b[0m\u001b[0;34m[\u001b[0m\u001b[0;34m'c'\u001b[0m\u001b[0;34m]\u001b[0m\u001b[0;34m)\u001b[0m\u001b[0;34m\u001b[0m\u001b[0;34m\u001b[0m\u001b[0m\n\u001b[0m",
            "\u001b[0;31mKeyError\u001b[0m: 'c'"
          ]
        }
      ]
    },
    {
      "cell_type": "markdown",
      "source": [
        "Handling"
      ],
      "metadata": {
        "id": "J9cKoyeMYMSb"
      }
    },
    {
      "cell_type": "code",
      "source": [
        "try:\n",
        "    my_dict = {'a': 1, 'b': 2}\n",
        "    print(my_dict['c'])\n",
        "except KeyError as e:\n",
        "    print(f\"Caught a KeyError: {e}\")\n",
        "\n",
        "# Fix\n",
        "key = 'c'\n",
        "if key in my_dict:\n",
        "    print(my_dict[key])\n",
        "else:\n",
        "    print(f\"Key '{key}' not found\")\n"
      ],
      "metadata": {
        "colab": {
          "base_uri": "https://localhost:8080/"
        },
        "id": "LBxKIzV5YQN8",
        "outputId": "597ee9eb-9f50-4721-80e8-5a76363c9b4f"
      },
      "execution_count": 7,
      "outputs": [
        {
          "output_type": "stream",
          "name": "stdout",
          "text": [
            "Caught a KeyError: 'c'\n",
            "Key 'c' not found\n"
          ]
        }
      ]
    },
    {
      "cell_type": "markdown",
      "source": [
        "6. Value Error\n",
        "\n",
        "𝐂𝐥𝐚𝐬𝐬 𝐨𝐟 𝐄𝐫𝐫𝐨𝐫:  'Value Error'\n",
        "\n",
        "𝗗𝗲𝘀𝗰𝗿𝗶𝗽𝘁𝗶𝗼𝗻 : When a function is called with an argument that is the right type but has the wrong value, value errors happen."
      ],
      "metadata": {
        "id": "t8f6GIJZYkQ6"
      }
    },
    {
      "cell_type": "code",
      "source": [
        "# Example of ValueError\n",
        "int_value = int('abc')\n"
      ],
      "metadata": {
        "colab": {
          "base_uri": "https://localhost:8080/",
          "height": 163
        },
        "id": "JbXfNBOHYjUa",
        "outputId": "2e27745b-e14e-41c1-f573-3bac56989b8c"
      },
      "execution_count": 8,
      "outputs": [
        {
          "output_type": "error",
          "ename": "ValueError",
          "evalue": "invalid literal for int() with base 10: 'abc'",
          "traceback": [
            "\u001b[0;31m---------------------------------------------------------------------------\u001b[0m",
            "\u001b[0;31mValueError\u001b[0m                                Traceback (most recent call last)",
            "\u001b[0;32m<ipython-input-8-97a0ee7a376c>\u001b[0m in \u001b[0;36m<cell line: 2>\u001b[0;34m()\u001b[0m\n\u001b[1;32m      1\u001b[0m \u001b[0;31m# Example of ValueError\u001b[0m\u001b[0;34m\u001b[0m\u001b[0;34m\u001b[0m\u001b[0m\n\u001b[0;32m----> 2\u001b[0;31m \u001b[0mint_value\u001b[0m \u001b[0;34m=\u001b[0m \u001b[0mint\u001b[0m\u001b[0;34m(\u001b[0m\u001b[0;34m'abc'\u001b[0m\u001b[0;34m)\u001b[0m\u001b[0;34m\u001b[0m\u001b[0;34m\u001b[0m\u001b[0m\n\u001b[0m",
            "\u001b[0;31mValueError\u001b[0m: invalid literal for int() with base 10: 'abc'"
          ]
        }
      ]
    },
    {
      "cell_type": "markdown",
      "source": [
        "Handling"
      ],
      "metadata": {
        "id": "GZ89LVsCbu40"
      }
    },
    {
      "cell_type": "code",
      "source": [
        "try:\n",
        "    int_value = int('abc')\n",
        "except ValueError as e:\n",
        "    print(f\"Caught a ValueError: {e}\")\n",
        "\n",
        "# Fix\n",
        "input_str = 'abc'\n",
        "try:\n",
        "    int_value = int(input_str)\n",
        "except ValueError:\n",
        "    int_value = None\n",
        "print(int_value)  # Output: None\n"
      ],
      "metadata": {
        "colab": {
          "base_uri": "https://localhost:8080/"
        },
        "id": "IRER7gD6buZa",
        "outputId": "023db980-e7d5-4558-9e2a-fe1f98cae2f6"
      },
      "execution_count": 9,
      "outputs": [
        {
          "output_type": "stream",
          "name": "stdout",
          "text": [
            "Caught a ValueError: invalid literal for int() with base 10: 'abc'\n",
            "None\n"
          ]
        }
      ]
    },
    {
      "cell_type": "markdown",
      "source": [
        "7. ZeroDivision Error\n",
        "\n",
        "𝐂𝐥𝐚𝐬𝐬 𝐨𝐟 𝐄𝐫𝐫𝐨𝐫: '𝐙𝐞𝐫𝐨𝐃𝐢𝐯𝐢𝐬𝐢𝐨𝐧𝐄𝐫𝐫𝐨𝐫'\n",
        "\n",
        "𝗗𝗲𝘀𝗰𝗿𝗶𝗽𝘁𝗶𝗼𝗻 : When a division or modulo operation is carried out with a zero denominator, zero division errors arise."
      ],
      "metadata": {
        "id": "Fb5Q9a2eb4vA"
      }
    },
    {
      "cell_type": "code",
      "source": [
        "# Example of ZeroDivisionError\n",
        "result = 10 / 0\n"
      ],
      "metadata": {
        "colab": {
          "base_uri": "https://localhost:8080/",
          "height": 163
        },
        "id": "kHo1uK4Tc0UZ",
        "outputId": "becb7cab-376a-4430-8257-512ceddb4bdb"
      },
      "execution_count": 10,
      "outputs": [
        {
          "output_type": "error",
          "ename": "ZeroDivisionError",
          "evalue": "division by zero",
          "traceback": [
            "\u001b[0;31m---------------------------------------------------------------------------\u001b[0m",
            "\u001b[0;31mZeroDivisionError\u001b[0m                         Traceback (most recent call last)",
            "\u001b[0;32m<ipython-input-10-8dc72e29cdfb>\u001b[0m in \u001b[0;36m<cell line: 2>\u001b[0;34m()\u001b[0m\n\u001b[1;32m      1\u001b[0m \u001b[0;31m# Example of ZeroDivisionError\u001b[0m\u001b[0;34m\u001b[0m\u001b[0;34m\u001b[0m\u001b[0m\n\u001b[0;32m----> 2\u001b[0;31m \u001b[0mresult\u001b[0m \u001b[0;34m=\u001b[0m \u001b[0;36m10\u001b[0m \u001b[0;34m/\u001b[0m \u001b[0;36m0\u001b[0m\u001b[0;34m\u001b[0m\u001b[0;34m\u001b[0m\u001b[0m\n\u001b[0m",
            "\u001b[0;31mZeroDivisionError\u001b[0m: division by zero"
          ]
        }
      ]
    },
    {
      "cell_type": "markdown",
      "source": [
        "Handling"
      ],
      "metadata": {
        "id": "HgwqVNMbdFYT"
      }
    },
    {
      "cell_type": "code",
      "source": [
        "try:\n",
        "    result = 10 / 0\n",
        "except ZeroDivisionError as e:\n",
        "    print(f\"Caught a ZeroDivisionError: {e}\")\n",
        "\n",
        "# Fix\n",
        "denominator = 0\n",
        "if denominator != 0:\n",
        "    result = 10 / denominator\n",
        "else:\n",
        "    result = None\n",
        "print(result)  # Output: None\n"
      ],
      "metadata": {
        "colab": {
          "base_uri": "https://localhost:8080/"
        },
        "id": "os6vPxAFdCyV",
        "outputId": "4569225b-e49c-4607-c014-ea5d132902e0"
      },
      "execution_count": 11,
      "outputs": [
        {
          "output_type": "stream",
          "name": "stdout",
          "text": [
            "Caught a ZeroDivisionError: division by zero\n",
            "None\n"
          ]
        }
      ]
    },
    {
      "cell_type": "markdown",
      "source": [
        "8. ModuleNotFoundError\n",
        "\n",
        "𝐂𝐥𝐚𝐬𝐬 𝐨𝐟 𝐄𝐫𝐫𝐨𝐫: '𝐌𝐨𝐝𝐮𝐥𝐞𝐍𝐨𝐭𝐅𝐨𝐮𝐧𝐝𝐄𝐫𝐫𝐨𝐫'\n",
        "\n",
        "𝐃𝐞𝐬𝐜𝐫𝐢𝐩𝐭𝐢𝐨𝐧 : ModuleNotFound errors occur when an import statement fails to find the module definition."
      ],
      "metadata": {
        "id": "VAuDZDb6dQnb"
      }
    },
    {
      "cell_type": "code",
      "source": [
        "# Example of ModuleNotFoundError\n",
        "import non_existent_module\n"
      ],
      "metadata": {
        "colab": {
          "base_uri": "https://localhost:8080/",
          "height": 342
        },
        "id": "XH0PU-FHd66j",
        "outputId": "206251b5-1eeb-4d4a-cdb7-358b2be4a206"
      },
      "execution_count": 12,
      "outputs": [
        {
          "output_type": "error",
          "ename": "ModuleNotFoundError",
          "evalue": "No module named 'non_existent_module'",
          "traceback": [
            "\u001b[0;31m---------------------------------------------------------------------------\u001b[0m",
            "\u001b[0;31mModuleNotFoundError\u001b[0m                       Traceback (most recent call last)",
            "\u001b[0;32m<ipython-input-12-4110d6da5185>\u001b[0m in \u001b[0;36m<cell line: 2>\u001b[0;34m()\u001b[0m\n\u001b[1;32m      1\u001b[0m \u001b[0;31m# Example of ModuleNotFoundError\u001b[0m\u001b[0;34m\u001b[0m\u001b[0;34m\u001b[0m\u001b[0m\n\u001b[0;32m----> 2\u001b[0;31m \u001b[0;32mimport\u001b[0m \u001b[0mnon_existent_module\u001b[0m\u001b[0;34m\u001b[0m\u001b[0;34m\u001b[0m\u001b[0m\n\u001b[0m",
            "\u001b[0;31mModuleNotFoundError\u001b[0m: No module named 'non_existent_module'",
            "",
            "\u001b[0;31m---------------------------------------------------------------------------\u001b[0;32m\nNOTE: If your import is failing due to a missing package, you can\nmanually install dependencies using either !pip or !apt.\n\nTo view examples of installing some common dependencies, click the\n\"Open Examples\" button below.\n\u001b[0;31m---------------------------------------------------------------------------\u001b[0m\n"
          ],
          "errorDetails": {
            "actions": [
              {
                "action": "open_url",
                "actionText": "Open Examples",
                "url": "/notebooks/snippets/importing_libraries.ipynb"
              }
            ]
          }
        }
      ]
    },
    {
      "cell_type": "code",
      "source": [
        "try:\n",
        "    import non_existent_module\n",
        "except ModuleNotFoundError as e:\n",
        "    print(f\"Caught a ModuleNotFoundError: {e}\")\n",
        "\n",
        "# Fix\n",
        "# Ensure the module exists and is installed\n",
        "import os  # Assuming 'os' module is available\n",
        "print(os.name)  # Output: posix or nt depending on the OS\n"
      ],
      "metadata": {
        "colab": {
          "base_uri": "https://localhost:8080/"
        },
        "id": "HO-Ujk0ZeLFe",
        "outputId": "b8a57e31-092b-4d09-d097-9be4c3bc66b0"
      },
      "execution_count": 13,
      "outputs": [
        {
          "output_type": "stream",
          "name": "stdout",
          "text": [
            "Caught a ModuleNotFoundError: No module named 'non_existent_module'\n",
            "posix\n"
          ]
        }
      ]
    }
  ]
}