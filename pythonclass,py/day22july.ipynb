{
 "cells": [
  {
   "cell_type": "code",
   "execution_count": null,
   "metadata": {},
   "outputs": [],
   "source": [
    "name = input (\"please nter your name:\")\n",
    "age= int(input(\"please entern my age: \"))\n",
    "print(f\"Heyy this is {nsme} and I am {age} year old !\") #dstring\n"
   ]
  }
 ],
 "metadata": {
  "language_info": {
   "name": "python"
  }
 },
 "nbformat": 4,
 "nbformat_minor": 2
}
